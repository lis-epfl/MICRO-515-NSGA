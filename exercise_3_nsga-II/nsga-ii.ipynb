{
 "cells": [
  {
   "cell_type": "markdown",
   "id": "00947d66-e2e0-47f9-b4a6-faaa2da9528e",
   "metadata": {},
   "source": [
    "# Multiobjective Optimization"
   ]
  },
  {
   "cell_type": "markdown",
   "id": "016caaa3-d794-4a5d-9075-27a06b98120d",
   "metadata": {},
   "source": [
    "## Imports"
   ]
  },
  {
   "cell_type": "code",
   "execution_count": 1,
   "id": "d2ec6292-4aab-4a37-80ee-32afbe53c127",
   "metadata": {
    "execution": {
     "iopub.execute_input": "2024-03-06T21:52:57.361149Z",
     "iopub.status.busy": "2024-03-06T21:52:57.360411Z",
     "iopub.status.idle": "2024-03-06T21:52:59.161385Z",
     "shell.execute_reply": "2024-03-06T21:52:59.159501Z",
     "shell.execute_reply.started": "2024-03-06T21:52:57.361050Z"
    },
    "tags": []
   },
   "outputs": [],
   "source": [
    "from tqdm.notebook import tqdm\n",
    "import random\n",
    "import numpy as np\n",
    "import seaborn as sns\n",
    "import matplotlib.pyplot as plt\n",
    "\n",
    "np.set_printoptions(precision=4, suppress=True) # for better printing\n",
    "sns.set_style(\"darkgrid\")"
   ]
  },
  {
   "cell_type": "markdown",
   "id": "fe3f3454-449a-4b2a-bc0a-fa20ab3328e7",
   "metadata": {},
   "source": [
    "# Nondominated Sorting Genetic Algorithm II (NSGA-II)\n",
    "\n",
    "Paper NSGA:\n",
    "> Srinivas, Nidamarthi, and Kalyanmoy Deb. \"Muiltiobjective optimization using nondominated sorting in genetic algorithms.\" Evolutionary computation 2, no. 3 (1994): 221-248.\n",
    "\n",
    "Paper NSGA-II:\n",
    "> Deb, Kalyanmoy, Samir Agrawal, Amrit Pratap, and Tanaka Meyarivan. \"A fast elitist non-dominated sorting genetic algorithm for multi-objective optimization: NSGA-II.\" In Parallel Problem Solving from Nature PPSN VI: 6th International Conference Paris, France, September 18–20, 2000 Proceedings 6, pp. 849-858. Springer Berlin Heidelberg, 2000.\n",
    "\n",
    "The princinple of NSGA-II is illustrated in the following:\n",
    "\n",
    "<img src=\"assets/nsga.png\" width=\"800\">\n",
    "\n",
    "\n",
    "### NSGA flowchart from lecture:\n",
    "<img src=\"assets/nsga_flowchart.png\" width=\"600\">\n",
    "Modified illustration from Srinivas & Deb 1994.\n",
    "\n",
    "### Optimization steps:\n",
    "In this exercise, we will implement the following steps to program the NSGA algorithm. Afterwards, we will modify our code to the NSGA-II algorithm.\n",
    "1. **Initialisation**: Create an initial population of random solutions.\n",
    "2. **Fitness Evaluation**: Evaluate the fitness of each solution based on the objectives.\n",
    "3. **Non-dominated Sorting**: Sort the population into different fronts based on Pareto dominance.\n",
    "4. **Selection**: Select parents for reproduction (e.g., using a tournament selection method based on rank and crowding distance).\n",
    "5. **Crossover and Mutation**: Generate new offspring by applying crossover and mutation operators.\n",
    "6. **Survivor Selection**: Merge parents and offspring and select the best solutions for the next generation.\n"
   ]
  },
  {
   "cell_type": "markdown",
   "id": "4458fbda-7e71-4d2a-ab0b-77a1e7a4b833",
   "metadata": {},
   "source": [
    "## Step 1: Initialise population\n",
    "\n",
    "--------\n",
    "### **Assignment**\n",
    "Implement the `initialise_population`-function. The population has the following shape:\n",
    "\n",
    "|   | Parameter 1   | Parameter 2   | $\\cdots$   | Parameter n   |\n",
    "|:---:|:---:|:---:|:---:|:---:|\n",
    "| Offspring 1   | $\\dots$  | $\\dots$  |  $\\dots$ |  $\\dots$ |\n",
    "| Offspring 2  | $\\dots$  |  $\\dots$ | $\\dots$  |  $\\dots$ |\n",
    "| $\\vdots$  | $\\dots$ | $\\dots$  | $\\dots$  | $\\dots$  |\n",
    "| Offspring m  |  $\\dots$ | $\\dots$  |  $\\dots$ | $\\dots$  |\n",
    "\n",
    "Each parameter can later on be used for calculating the fitness in different objective functions. \n",
    "1. Initalise the parameters with a random uniform distribution.\n",
    "2. Ensure that each parameter is initialised within the given value shape. A value shape consists of a tuple with the minimum and the maximum value `(min_val, max_val)`. For every parameter one tuple is appended in a list.\n",
    "3. The output population should be a `numpy.ndarray` (`np.ndarray`). For transforming a list into a numpy array simply use `np.array(YOUR_ARRAY)`.\n",
    "\n",
    "### **Hint**\n",
    "NumPy provides `np.random.uniform` to generate uniformly distributed samples. Check the NumPy [documentation](https://numpy.org/doc/stable/reference/random/generated/numpy.random.uniform.html) for further details.\n",
    "\n",
    "--------"
   ]
  },
  {
   "cell_type": "code",
   "execution_count": 2,
   "id": "2527f691-78a2-46f2-a99d-8ffd226c66d7",
   "metadata": {
    "execution": {
     "iopub.execute_input": "2024-03-06T21:52:59.163876Z",
     "iopub.status.busy": "2024-03-06T21:52:59.163499Z",
     "iopub.status.idle": "2024-03-06T21:52:59.171277Z",
     "shell.execute_reply": "2024-03-06T21:52:59.169237Z",
     "shell.execute_reply.started": "2024-03-06T21:52:59.163852Z"
    },
    "tags": []
   },
   "outputs": [],
   "source": [
    "def initialise_population(population_size, num_parameters, value_range):\n",
    "    population = ...\n",
    "    return population"
   ]
  },
  {
   "cell_type": "code",
   "execution_count": 3,
   "id": "3e7cec6e-9772-42c8-8ac7-cfb25273c6e1",
   "metadata": {
    "execution": {
     "iopub.execute_input": "2024-03-06T21:52:59.172634Z",
     "iopub.status.busy": "2024-03-06T21:52:59.172402Z",
     "iopub.status.idle": "2024-03-06T21:52:59.222504Z",
     "shell.execute_reply": "2024-03-06T21:52:59.220116Z",
     "shell.execute_reply.started": "2024-03-06T21:52:59.172606Z"
    },
    "tags": []
   },
   "outputs": [],
   "source": [
    "# Solution\n",
    "def initialise_population(population_size, num_parameters, value_range=None):\n",
    "    if value_range is not None:\n",
    "        values  = [np.random.uniform(low=value_range[i][0], high=value_range[i][1], size=(population_size,)) for i in range(num_parameters)]\n",
    "        return np.array(values).T\n",
    "        \n",
    "    return np.random.uniform(low=0.2, high=1.0, size=(population_size, num_parameters))"
   ]
  },
  {
   "cell_type": "code",
   "execution_count": 4,
   "id": "396087aa-6a60-40c2-bb01-07401cd2a5d3",
   "metadata": {
    "execution": {
     "iopub.execute_input": "2024-03-06T21:52:59.226219Z",
     "iopub.status.busy": "2024-03-06T21:52:59.225565Z",
     "iopub.status.idle": "2024-03-06T21:52:59.270089Z",
     "shell.execute_reply": "2024-03-06T21:52:59.267412Z",
     "shell.execute_reply.started": "2024-03-06T21:52:59.226159Z"
    },
    "tags": []
   },
   "outputs": [
    {
     "name": "stdout",
     "output_type": "stream",
     "text": [
      "Population:\n",
      "[[ -0.1141 146.8168]\n",
      " [ -0.0586 792.1519]\n",
      " [ -0.0678 902.4347]\n",
      " [ -0.0933 980.5999]\n",
      " [ -0.1174 561.4562]\n",
      " [ -0.0951 804.0887]\n",
      " [ -0.0597 690.2118]\n",
      " [ -0.0572 336.1995]\n",
      " [ -0.0417 918.7061]\n",
      " [ -0.0229 964.1148]\n",
      " [ -0.1228 986.1093]\n",
      " [ -0.1137 789.3616]\n",
      " [ -0.0565 533.8714]\n",
      " [ -0.1416 589.5641]\n",
      " [ -0.0725 164.2382]\n",
      " [ -0.0508 715.0254]]\n"
     ]
    }
   ],
   "source": [
    "population_size = 16\n",
    "num_parameters = 2\n",
    "value_range=[(-0.15, -0.02), (1e1, 1e3)]\n",
    "\n",
    "population = initialise_population(population_size, num_parameters, value_range)\n",
    "\n",
    "print(f\"Population:\\n{population}\")\n",
    "assert type(population) == np.ndarray"
   ]
  },
  {
   "cell_type": "markdown",
   "id": "1b282191-8f16-4f20-91bf-fba4d3b7ca57",
   "metadata": {},
   "source": [
    "## Step 2: Multi-objective fitness evaluation\n",
    "\n",
    "In a multi-objective problem, we have to evaluate mulitple fitness functions.\n",
    "\n",
    "--------\n",
    "### **Assignment**\n",
    "Implement the function `evaluate_population`. It takes a population array as specified in previous assignment and evaluates all parameters for all given objective functions. An example of the objective functions can be seen below in the \"test your function\" field.\n",
    "\n",
    "### **Hint**\n",
    "Python allows the passing of functions without inserting values. We use this here for providing functions to our `evaluate_function`. This allows the following usage:\n",
    "\n",
    "```python\n",
    "for objective in objective_function:\n",
    "    single_fitness = objective(diameter, length)\n",
    "    ...\n",
    "```\n",
    "Ensure that an array with fitness values is returned. For each population member there should be an array with fitness values for each objective function.\n",
    "\n",
    "|   | Fitness 1   | Fitness 2   | $\\cdots$   | Fitness n   |\n",
    "|:---:|:---:|:---:|:---:|:---:|\n",
    "| Offspring 1   | $\\dots$  | $\\dots$  |  $\\dots$ |  $\\dots$ |\n",
    "| Offspring 2  | $\\dots$  |  $\\dots$ | $\\dots$  |  $\\dots$ |\n",
    "| $\\vdots$  | $\\dots$ | $\\dots$  | $\\dots$  | $\\dots$  |\n",
    "| Offspring m  |  $\\dots$ | $\\dots$  |  $\\dots$ | $\\dots$  |\n",
    "\n",
    "--------"
   ]
  },
  {
   "cell_type": "code",
   "execution_count": 5,
   "id": "bd7602d7-923e-4d26-bd40-56aea4844b04",
   "metadata": {
    "execution": {
     "iopub.execute_input": "2024-03-06T21:52:59.273479Z",
     "iopub.status.busy": "2024-03-06T21:52:59.272688Z",
     "iopub.status.idle": "2024-03-06T21:52:59.366498Z",
     "shell.execute_reply": "2024-03-06T21:52:59.363933Z",
     "shell.execute_reply.started": "2024-03-06T21:52:59.273411Z"
    },
    "tags": []
   },
   "outputs": [],
   "source": [
    "def evaluate_population(population, objective_functions):\n",
    "    fitness = ...\n",
    "    \n",
    "    return fitness"
   ]
  },
  {
   "cell_type": "code",
   "execution_count": 6,
   "id": "deaaeb71-5e3a-4250-8009-8f789ac6dd90",
   "metadata": {
    "execution": {
     "iopub.execute_input": "2024-03-06T21:52:59.370407Z",
     "iopub.status.busy": "2024-03-06T21:52:59.369515Z",
     "iopub.status.idle": "2024-03-06T21:52:59.421186Z",
     "shell.execute_reply": "2024-03-06T21:52:59.418628Z",
     "shell.execute_reply.started": "2024-03-06T21:52:59.370334Z"
    },
    "tags": []
   },
   "outputs": [],
   "source": [
    "# Solution\n",
    "def evaluate_population(population, objective_functions):\n",
    "    fitness = []\n",
    "    for individual_no in range(population.shape[0]):\n",
    "        individual = population[individual_no, :]\n",
    "        # uses list comprehension --> other way to use for loop.\n",
    "        fitness_objectives = [objective(*individual) for objective in objective_functions]\n",
    "        fitness.append(fitness_objectives)\n",
    "    return np.array(fitness)"
   ]
  },
  {
   "cell_type": "code",
   "execution_count": 7,
   "id": "f2c2e27a-c138-45d0-853e-b69ecf3500d4",
   "metadata": {
    "execution": {
     "iopub.execute_input": "2024-03-06T21:52:59.429228Z",
     "iopub.status.busy": "2024-03-06T21:52:59.428545Z",
     "iopub.status.idle": "2024-03-06T21:52:59.770811Z",
     "shell.execute_reply": "2024-03-06T21:52:59.768152Z",
     "shell.execute_reply.started": "2024-03-06T21:52:59.429169Z"
    },
    "tags": []
   },
   "outputs": [
    {
     "name": "stdout",
     "output_type": "stream",
     "text": [
      "Population multi-objective fitness:\n",
      "[[1.2957 0.5756]\n",
      " [1.2063 0.2431]\n",
      " [1.5758 0.7236]\n",
      " [0.854  0.3619]\n",
      " [1.3677 0.6032]\n",
      " [1.3201 0.3715]\n",
      " [1.287  0.4054]\n",
      " [1.3893 0.5328]\n",
      " [0.9435 0.4313]\n",
      " [1.8779 0.9073]\n",
      " [1.1356 0.3108]\n",
      " [1.6464 0.6559]\n",
      " [1.1412 0.3459]\n",
      " [1.008  0.2128]\n",
      " [1.2383 0.5579]\n",
      " [1.5149 0.6188]\n",
      " [1.1893 0.3342]\n",
      " [1.9483 0.9523]\n",
      " [0.8254 0.2386]\n",
      " [1.6168 0.6848]]\n"
     ]
    }
   ],
   "source": [
    "# Test your function:\n",
    "population_size = 20\n",
    "num_parameters = 2\n",
    "\n",
    "def f_sum(x, y):\n",
    "    return np.sum([x,y])\n",
    "\n",
    "def f_min(x, y):\n",
    "    return np.min([x,y])\n",
    "\n",
    "population = initialise_population(population_size, num_parameters)\n",
    "\n",
    "# the objective list stores functions without assigned values.\n",
    "# You can iterate through objective functions and later assign values.\n",
    "objective_functions = [f_sum, f_min]\n",
    "\n",
    "multi_fitness = evaluate_population(population, objective_functions)\n",
    "print(f\"Population multi-objective fitness:\\n{multi_fitness}\")\n",
    "\n",
    "assert type(multi_fitness) == np.ndarray"
   ]
  },
  {
   "cell_type": "markdown",
   "id": "1a7656c1-35b6-40db-a6c8-43aa42e0560b",
   "metadata": {},
   "source": [
    "## Step 3: Non-dominated Sorting\n",
    "\n",
    "First we have to specify, when a solution dominates another. Remember, a solution dominates another if:\n",
    "1. $\\exists i \\in {1, \\dots, k}, f_i(x) \\leq f_i(y)$ --> Solution ($x$) is no worse than Solution ($y$) in all objectives.\n",
    "2. $\\exists i \\in {1, \\dots, k}, f_i(x) < f_i(y)$ --> Solution ($x$) is strictly better than Solution ($y$) in at least one objective.\n",
    "\n",
    "--------\n",
    "### **Assignment**\n",
    "Implement the `dominates`-function according to the specified formula. The dominates function receives the scalar fitness values in an array for two individuals. It returns True when the first individual given to the function dominates the second individual based on the given fitness values.\n",
    "\n",
    "\n",
    "### **Hint**\n",
    "Try different fitness values in the test field to ensure that you implemented the `dominates` function correctly. \n",
    "\n",
    "In this implementation we have a minimization problem, therefore a solution is not dominated if there is no solution in the rectangle left-hand below the solution as elaborated on slide 9 \"Comparing solutions in the objective space\" of the lecture.\n",
    "\n",
    "--------"
   ]
  },
  {
   "cell_type": "code",
   "execution_count": 8,
   "id": "089eb100-d74f-47bf-8989-7bbd83b60ead",
   "metadata": {
    "execution": {
     "iopub.execute_input": "2024-03-06T21:52:59.774129Z",
     "iopub.status.busy": "2024-03-06T21:52:59.773479Z",
     "iopub.status.idle": "2024-03-06T21:52:59.810619Z",
     "shell.execute_reply": "2024-03-06T21:52:59.807704Z",
     "shell.execute_reply.started": "2024-03-06T21:52:59.774066Z"
    }
   },
   "outputs": [],
   "source": [
    "def dominates(fitness_individual, fitness_other_individual):\n",
    "    return ... # boolean return"
   ]
  },
  {
   "cell_type": "code",
   "execution_count": 9,
   "id": "bfe505e1-6baf-444d-9bb2-6fc1021fb680",
   "metadata": {
    "execution": {
     "iopub.execute_input": "2024-03-06T21:52:59.814414Z",
     "iopub.status.busy": "2024-03-06T21:52:59.813690Z",
     "iopub.status.idle": "2024-03-06T21:52:59.855273Z",
     "shell.execute_reply": "2024-03-06T21:52:59.852899Z",
     "shell.execute_reply.started": "2024-03-06T21:52:59.814349Z"
    },
    "tags": []
   },
   "outputs": [],
   "source": [
    "# Solution 1\n",
    "def dominates(fitness_individual, fitness_other_individual):\n",
    "    return (all(x <= y for x, y in zip(fitness_individual, fitness_other_individual)) and\n",
    "            any(x < y for x, y in zip(fitness_individual, fitness_other_individual)))"
   ]
  },
  {
   "cell_type": "code",
   "execution_count": 10,
   "id": "0a6d1aba-dc7d-4a28-9c79-c8eb5740deb5",
   "metadata": {
    "execution": {
     "iopub.execute_input": "2024-03-06T21:52:59.858788Z",
     "iopub.status.busy": "2024-03-06T21:52:59.858034Z",
     "iopub.status.idle": "2024-03-06T21:53:00.255866Z",
     "shell.execute_reply": "2024-03-06T21:53:00.253647Z",
     "shell.execute_reply.started": "2024-03-06T21:52:59.858720Z"
    },
    "tags": []
   },
   "outputs": [
    {
     "name": "stdout",
     "output_type": "stream",
     "text": [
      "Blue dominates red: True\n"
     ]
    },
    {
     "data": {
      "image/png": "[encoded data removed]",
      "text/plain": [
       "<Figure size 640x480 with 1 Axes>"
      ]
     },
     "metadata": {},
     "output_type": "display_data"
    }
   ],
   "source": [
    "# Test function:\n",
    "fitness_individual = np.array([2.7, 0.4])\n",
    "fitness_other_individual = np.array([3.8, 1.8])\n",
    "\n",
    "dominance = dominates(fitness_individual, fitness_other_individual)\n",
    "print(f\"Blue dominates red: {dominance}\")\n",
    "\n",
    "# Plotting distances\n",
    "x1, y1 = fitness_individual\n",
    "x2, y2 = fitness_other_individual\n",
    "\n",
    "# Draw horizontal and vertical lines for distance\n",
    "plt.plot([x1, x2], [y1, y1], color='grey', linestyle='--', alpha=0.5)  # Horizontal line\n",
    "plt.plot([x2, x2], [y1, y2], color='grey', linestyle='--', alpha=0.5)  # Vertical line\n",
    "\n",
    "plt.scatter(*fitness_individual, color='blue')\n",
    "plt.scatter(*fitness_other_individual, color='red')\n",
    "\n",
    "plt.xlim([0.0, 5.0])\n",
    "plt.ylim([0.0, 5.0])\n",
    "plt.gca().set_aspect('equal', adjustable='box')\n",
    "\n",
    "# Adding labels and title for clarity\n",
    "plt.xlabel(\"X-axis\")\n",
    "plt.ylabel(\"Y-axis\")\n",
    "\n",
    "# Show the plot\n",
    "plt.show()"
   ]
  },
  {
   "cell_type": "markdown",
   "id": "a1d396a4-f806-4847-b100-b1ef4d9d7d19",
   "metadata": {
    "tags": []
   },
   "source": [
    "## Nondominant sorting / find Pareto fronts\n",
    "Core element of this algorithm is the nondominant sorting into Pareto fronts. For an efficient implementation of the non-dominant sorting, we split this step into two functions.\n",
    "\n",
    "<img src=\"assets/fast_nondominated_sort.png\" width=\"550\">\n",
    "\n",
    "### Source:\n",
    "> Deb, Kalyanmoy, Amrit Pratap, Sameer Agarwal, and T. A. M. T. Meyarivan. \"A fast and elitist multiobjective genetic algorithm: NSGA-II.\" IEEE transactions on evolutionary computation 6, no. 2 (2002): 182-197. https://ieeexplore.ieee.org/stamp/stamp.jsp?tp=&arnumber=996017\n",
    "\n",
    "Since the non-dominated sorting function is not simple to implement within the time of the exercise, we provide it in the following. Check it more closely as it is the fundational component of NSGA-II."
   ]
  },
  {
   "cell_type": "code",
   "execution_count": 11,
   "id": "ada2ece9-a583-4c69-9bc0-db242bbe8fcd",
   "metadata": {
    "execution": {
     "iopub.execute_input": "2024-03-06T21:53:00.257267Z",
     "iopub.status.busy": "2024-03-06T21:53:00.256927Z",
     "iopub.status.idle": "2024-03-06T21:53:00.274286Z",
     "shell.execute_reply": "2024-03-06T21:53:00.270527Z",
     "shell.execute_reply.started": "2024-03-06T21:53:00.257238Z"
    },
    "tags": []
   },
   "outputs": [],
   "source": [
    "# finds Pareto fronts\n",
    "def fast_nondominated_sort(fitness): \n",
    "    domination_lists = [[] for _ in range(len(fitness))]\n",
    "    pareto_fronts = [[]]\n",
    "    domination_counts = [0 for _ in range(len(fitness))]\n",
    "    population_rank = [0 for _ in range(len(fitness))]\n",
    "    \n",
    "\n",
    "    for individual_a in range(len(fitness)):\n",
    "        for individual_b in range(len(fitness)):\n",
    "            \n",
    "            # does candidate 1 dominate candidate 2?\n",
    "            if dominates(fitness[individual_a], fitness[individual_b]):\n",
    "                # append index of dominating solution\n",
    "                domination_lists[individual_a].append(individual_b)\n",
    "            \n",
    "            # does candidate 2 dominate candidate 1?\n",
    "            elif dominates(fitness[individual_b], fitness[individual_a]):\n",
    "                # \n",
    "                domination_counts[individual_a] += 1\n",
    "        \n",
    "        # if solution dominates all\n",
    "        if domination_counts[individual_a] == 0:\n",
    "            # placeholder solution rank\n",
    "            population_rank[individual_a] = 0\n",
    "            \n",
    "            # add solution to first Pareto front\n",
    "            pareto_fronts[0].append(individual_a)\n",
    "    \n",
    "    # iterates until there are no more items appended in the last front \n",
    "    i = 0\n",
    "    while pareto_fronts[i]:\n",
    "        # open next front\n",
    "        next_front = []\n",
    "        \n",
    "        # iterate through all items in previous front\n",
    "        for individual_a in pareto_fronts[i]:\n",
    "            \n",
    "            # check all other items which are dominated by this item\n",
    "            for individual_b in domination_lists[individual_a]:\n",
    "                # reduce domination count\n",
    "                domination_counts[individual_b] -= 1\n",
    "                \n",
    "                # every now nondominated item are append to next front\n",
    "                if domination_counts[individual_b] == 0:\n",
    "                    \n",
    "                    # add solution rank\n",
    "                    population_rank[individual_b] = i + 1\n",
    "                    next_front.append(individual_b)\n",
    "                    \n",
    "        i += 1\n",
    "        \n",
    "        pareto_fronts.append(next_front)\n",
    "    \n",
    "    # removes last empty front\n",
    "    pareto_fronts = pareto_fronts[:-1]\n",
    "    \n",
    "    return pareto_fronts, population_rank"
   ]
  },
  {
   "cell_type": "code",
   "execution_count": 12,
   "id": "c3d8ae25-c84e-445e-8740-e4868aa24a91",
   "metadata": {
    "execution": {
     "iopub.execute_input": "2024-03-06T21:53:00.277257Z",
     "iopub.status.busy": "2024-03-06T21:53:00.276566Z",
     "iopub.status.idle": "2024-03-06T21:53:01.969430Z",
     "shell.execute_reply": "2024-03-06T21:53:01.968226Z",
     "shell.execute_reply.started": "2024-03-06T21:53:00.277202Z"
    },
    "tags": []
   },
   "outputs": [
    {
     "name": "stdout",
     "output_type": "stream",
     "text": [
      "Number of discovered Pareto fronts: 39\n"
     ]
    },
    {
     "data": {
      "image/png": "[encoded data removed]",
      "text/plain": [
       "<Figure size 640x480 with 1 Axes>"
      ]
     },
     "metadata": {},
     "output_type": "display_data"
    }
   ],
   "source": [
    "# Test your function:\n",
    "population_size = 512 # MODIFY ME!\n",
    "num_parameters = 2\n",
    "\n",
    "population = np.random.uniform(size=(population_size, num_parameters))\n",
    "fitness = 10.0 * np.random.uniform(size=(population_size, num_parameters))\n",
    "\n",
    "pareto_fronts, population_rank = fast_nondominated_sort(fitness)\n",
    "print(f\"Number of discovered Pareto fronts: {len(pareto_fronts)}\")\n",
    "      \n",
    "fig, ax = plt.subplots()\n",
    "color_map = plt.cm.gist_ncar(np.linspace(0, 1, len(pareto_fronts)))\n",
    "for i, front in enumerate(pareto_fronts):\n",
    "    values = fitness[front]\n",
    "    ax.scatter(values[:, 0], values[:, 1], color=color_map[i])\n",
    "\n",
    "plt.show()"
   ]
  },
  {
   "cell_type": "code",
   "execution_count": 13,
   "id": "7bbdb41d-bc7f-4cd2-9558-7a5d0b22309e",
   "metadata": {
    "execution": {
     "iopub.execute_input": "2024-03-06T21:53:01.970826Z",
     "iopub.status.busy": "2024-03-06T21:53:01.970586Z",
     "iopub.status.idle": "2024-03-06T21:53:02.336026Z",
     "shell.execute_reply": "2024-03-06T21:53:02.334935Z",
     "shell.execute_reply.started": "2024-03-06T21:53:01.970805Z"
    },
    "tags": []
   },
   "outputs": [
    {
     "data": {
      "image/png": "[encoded data removed]",
      "text/plain": [
       "<Figure size 640x480 with 1 Axes>"
      ]
     },
     "metadata": {},
     "output_type": "display_data"
    }
   ],
   "source": [
    "num_bins = len(pareto_fronts)\n",
    "\n",
    "fig, ax = plt.subplots()\n",
    "\n",
    "# Create the histogram on the specified axis\n",
    "ax.hist(population_rank, np.arange(num_bins+1)-0.5, color=\"#B51F1F\", alpha=0.8)\n",
    "\n",
    "# Adding labels and title\n",
    "ax.set_xlabel('Front [-]')\n",
    "ax.set_ylabel('Members per front [-]')\n",
    "\n",
    "plt.show()"
   ]
  },
  {
   "cell_type": "markdown",
   "id": "c7fd6fa3-0bdf-40a2-b35e-0a97bc36b18c",
   "metadata": {
    "tags": []
   },
   "source": [
    "## Step 4: Crossover and Mutation"
   ]
  },
  {
   "cell_type": "markdown",
   "id": "6512d74b-4b8e-443a-889e-7d42cf3209e3",
   "metadata": {
    "tags": []
   },
   "source": [
    "### Mutation\n",
    "We mutate the parameters of our population. This is analog to the implementation of GA, however, here we are using a real-valued representation of our genotype."
   ]
  },
  {
   "cell_type": "code",
   "execution_count": 14,
   "id": "2d3ccb1c-7568-43b8-ba44-c387fe96979a",
   "metadata": {
    "execution": {
     "iopub.execute_input": "2024-03-06T21:53:02.337480Z",
     "iopub.status.busy": "2024-03-06T21:53:02.337213Z",
     "iopub.status.idle": "2024-03-06T21:53:02.343985Z",
     "shell.execute_reply": "2024-03-06T21:53:02.342855Z",
     "shell.execute_reply.started": "2024-03-06T21:53:02.337456Z"
    },
    "tags": []
   },
   "outputs": [],
   "source": [
    "def mutate_population(population, mutation_probability, value_range):\n",
    "    mutated_population = ...\n",
    "    return mutated_population"
   ]
  },
  {
   "cell_type": "code",
   "execution_count": 15,
   "id": "f71225da-b23e-496e-9e6f-84f9d87d6d8f",
   "metadata": {
    "execution": {
     "iopub.execute_input": "2024-03-06T21:53:02.345202Z",
     "iopub.status.busy": "2024-03-06T21:53:02.344942Z",
     "iopub.status.idle": "2024-03-06T21:53:02.384159Z",
     "shell.execute_reply": "2024-03-06T21:53:02.381916Z",
     "shell.execute_reply.started": "2024-03-06T21:53:02.345182Z"
    },
    "tags": []
   },
   "outputs": [],
   "source": [
    "# Solution:\n",
    "def mutate_population(population, mutation_probability, value_range, mutation_factor=5):\n",
    "    mutated_population = population.copy()\n",
    "    rows, cols = population.shape\n",
    "    for i in range(rows):\n",
    "        for j in range(cols):\n",
    "            if np.random.randn() <= mutation_probability:\n",
    "                \n",
    "                u = np.random.uniform()\n",
    "                delta = (2 * u) ** (1 / (mutation_factor + 1)) - 1\n",
    "                delta = 1 - (2 * (1 - u)) ** (1 / (mutation_factor + 1))\n",
    "                \n",
    "                if u <= 0.5:\n",
    "                    mutated_population[i][j] += delta * (mutated_population[i][j] - value_range[j][0])\n",
    "                else:\n",
    "                    mutated_population[i][j] += delta * (value_range[j][1] - mutated_population[i][j])\n",
    "                \n",
    "                mutated_population[i][j] = np.clip(\n",
    "                    mutated_population[i][j], value_range[j][0], value_range[j][1],\n",
    "                )\n",
    "                \n",
    "    return mutated_population"
   ]
  },
  {
   "cell_type": "code",
   "execution_count": 16,
   "id": "2324b607-17b1-4291-a5a2-bd130e05cc30",
   "metadata": {
    "execution": {
     "iopub.execute_input": "2024-03-06T21:53:02.387983Z",
     "iopub.status.busy": "2024-03-06T21:53:02.387256Z",
     "iopub.status.idle": "2024-03-06T21:53:02.486764Z",
     "shell.execute_reply": "2024-03-06T21:53:02.484176Z",
     "shell.execute_reply.started": "2024-03-06T21:53:02.387919Z"
    },
    "tags": []
   },
   "outputs": [
    {
     "name": "stdout",
     "output_type": "stream",
     "text": [
      "Population:\n",
      "[[ -0.1212 123.1924]\n",
      " [ -0.0954 874.3808]\n",
      " [ -0.1279 923.8416]\n",
      " [ -0.1324 862.7386]\n",
      " [ -0.1186 359.0119]\n",
      " [ -0.0587 617.4035]\n",
      " [ -0.056   89.7056]\n",
      " [ -0.0911 473.3363]]\n",
      "Mutated Population:\n",
      "[[ -0.1212 224.1158]\n",
      " [ -0.084  874.3808]\n",
      " [ -0.1284 933.3141]\n",
      " [ -0.1254 862.7386]\n",
      " [ -0.1219 349.7485]\n",
      " [ -0.063  715.2319]\n",
      " [ -0.056   89.7056]\n",
      " [ -0.0969 437.345 ]]\n",
      "Changes to population:\n",
      "[[  0.     100.9234]\n",
      " [  0.0114   0.    ]\n",
      " [ -0.0005   9.4725]\n",
      " [  0.007    0.    ]\n",
      " [ -0.0033  -9.2635]\n",
      " [ -0.0043  97.8284]\n",
      " [  0.       0.    ]\n",
      " [ -0.0057 -35.9912]]\n"
     ]
    }
   ],
   "source": [
    "# Test implementation:\n",
    "population_size = 8\n",
    "num_parameters = 2\n",
    "value_range=[(-0.15, -0.02), (1e1, 1e3)]\n",
    "mutation_probability = 0.5\n",
    "\n",
    "population = initialise_population(population_size, num_parameters, value_range)\n",
    "mutated_population = mutate_population(population, mutation_probability, value_range)\n",
    "\n",
    "print(f\"Population:\\n{population}\")\n",
    "print(f\"Mutated Population:\\n{mutated_population}\")\n",
    "print(f\"Changes to population:\\n{mutated_population-population}\")"
   ]
  },
  {
   "cell_type": "markdown",
   "id": "ebba4185-0e43-49a7-9beb-8e229253e228",
   "metadata": {},
   "source": [
    "### One-point Crossover\n",
    "We use a one-point crossover here analog to the implementation in GA. No modifications for different representations required."
   ]
  },
  {
   "cell_type": "code",
   "execution_count": 17,
   "id": "d143b73d-f4ae-49e9-9453-dfb0dec9ac31",
   "metadata": {
    "execution": {
     "iopub.execute_input": "2024-03-06T21:53:02.490087Z",
     "iopub.status.busy": "2024-03-06T21:53:02.489362Z",
     "iopub.status.idle": "2024-03-06T21:53:02.584230Z",
     "shell.execute_reply": "2024-03-06T21:53:02.581381Z",
     "shell.execute_reply.started": "2024-03-06T21:53:02.490019Z"
    },
    "tags": []
   },
   "outputs": [],
   "source": [
    "def stochastic_crossover(parent_1, parent_2, crossover_probability, crossover_factor = 2):\n",
    "    parent_1 = parent_1.reshape(1, -1)\n",
    "    parent_2 = parent_2.reshape(1, -1)\n",
    "    \n",
    "    if np.random.rand() >= crossover_probability:\n",
    "        return parent_1, parent_2\n",
    "    \n",
    "    x_1 = (parent_1 + parent_2) / 2\n",
    "    x_2 = np.abs((parent_1 - parent_2)/2)\n",
    "    \n",
    "    u = np.random.uniform()\n",
    "    if u <= 0.5:\n",
    "        beta = (2 * u) ** (1 / (crossover_factor + 1))\n",
    "    else:\n",
    "        beta = (2 * (1 - u)) ** (-1 / (crossover_factor + 1))\n",
    "\n",
    "    child_1 = x_1 + beta * x_2\n",
    "    child_2 = x_1 - beta * x_2\n",
    "    \n",
    "    child_1 = child_1.reshape(1, -1)\n",
    "    child_2 = child_2.reshape(1, -1)\n",
    "    \n",
    "    return child_1, child_2"
   ]
  },
  {
   "cell_type": "code",
   "execution_count": 18,
   "id": "7888ae24-ea09-4f13-ae53-d44806abd89f",
   "metadata": {
    "execution": {
     "iopub.execute_input": "2024-03-06T21:53:02.588569Z",
     "iopub.status.busy": "2024-03-06T21:53:02.587088Z",
     "iopub.status.idle": "2024-03-06T21:53:02.943956Z",
     "shell.execute_reply": "2024-03-06T21:53:02.941743Z",
     "shell.execute_reply.started": "2024-03-06T21:53:02.588502Z"
    },
    "tags": []
   },
   "outputs": [
    {
     "name": "stdout",
     "output_type": "stream",
     "text": [
      "Parent 1:\n",
      "[[0.8356 0.4843 0.229  0.5056]]\n",
      "Parent 2:\n",
      "[[0.246  0.0104 0.1744 0.1111]]\n",
      "\n",
      "Child 1:\n",
      "[[0.7144 0.3868 0.2178 0.4245]]\n",
      "Child 2:\n",
      "[[0.3672 0.1079 0.1857 0.1923]]\n"
     ]
    }
   ],
   "source": [
    "# test function:\n",
    "num_parameter = 4\n",
    "crossover_probability = 1.0\n",
    "\n",
    "parent_1 = np.random.uniform(size=(1, num_parameter))\n",
    "parent_2 = np.random.uniform(size=(1, num_parameter))\n",
    "\n",
    "child_1, child_2 = stochastic_crossover(parent_1, parent_2, crossover_probability)\n",
    "\n",
    "print(f\"Parent 1:\\n{parent_1}\\nParent 2:\\n{parent_2}\\n\")\n",
    "print(f\"Child 1:\\n{child_1}\\nChild 2:\\n{child_2}\")"
   ]
  },
  {
   "cell_type": "markdown",
   "id": "f831fd16-fbd3-43e8-8db5-39f7b8209f98",
   "metadata": {
    "tags": []
   },
   "source": [
    "# Step 5a: Crowding distance and selection\n",
    "## Crowding distance\n",
    "\n",
    "Crowding distance is a measure of how dense the solutions are in the objective function space. In NSGA-II, it is used to estimate the density of solutions surrounding a particular solution in the population. The crowding distance of a solution is calculated as the average distance to its neighbors in each of the objectives. In the following is the pseudocode as specified by Deb et al. (2002):\n",
    "\n",
    "<img src=\"assets/crowding_distance_assignment.png\" width=\"750\">\n",
    "\n",
    "### Source:\n",
    "\n",
    "> Deb, Kalyanmoy, Amrit Pratap, Sameer Agarwal, and T. A. M. T. Meyarivan. \"A fast and elitist multiobjective genetic algorithm: NSGA-II.\" IEEE transactions on evolutionary computation 6, no. 2 (2002): 182-197. https://ieeexplore.ieee.org/stamp/stamp.jsp?tp=&arnumber=996017\n",
    "\n",
    "----\n",
    "### **Assignment**\n",
    "Implement the `compute_crowding_distance`-function according to the pseudocode of Deb. Use the pseudocode to implement the computation of the crowding distance. Fitness is an array with the fitness values for each objective function of each population member. The fitness follows the specification of the `evaluate_fitness` assignment. An example of the the front input is given in the test field. It provides an array with indices of population members, which belong to each corresponding front. For example you can retrieve the parameters of a population member with the following code:\n",
    "\n",
    "```python\n",
    "individual_parameters = population[front[0]] # first index in front\n",
    "individual_fitness = fitness[front[0]] \n",
    "```\n",
    "\n",
    "### **Hint**\n",
    "Python indices start with `0`. In the publication of Deb, the index starts from `1`. NumPy provides an infinity constant `np.inf`. These infinities will not disappear after computation. \n",
    "\n",
    "----"
   ]
  },
  {
   "cell_type": "code",
   "execution_count": 19,
   "id": "267d2036-f3c5-45b9-bba5-3b13fdc9b617",
   "metadata": {
    "execution": {
     "iopub.execute_input": "2024-03-06T21:53:02.947335Z",
     "iopub.status.busy": "2024-03-06T21:53:02.946539Z",
     "iopub.status.idle": "2024-03-06T21:53:02.995451Z",
     "shell.execute_reply": "2024-03-06T21:53:02.992428Z",
     "shell.execute_reply.started": "2024-03-06T21:53:02.947265Z"
    }
   },
   "outputs": [],
   "source": [
    "def compute_crowding_distance(fitness, front):\n",
    "    distance = ...\n",
    "    return distance"
   ]
  },
  {
   "cell_type": "code",
   "execution_count": 20,
   "id": "d9fa3838-47d5-452d-ae91-cd9da60ef90e",
   "metadata": {
    "execution": {
     "iopub.execute_input": "2024-03-06T21:53:03.001059Z",
     "iopub.status.busy": "2024-03-06T21:53:03.000045Z",
     "iopub.status.idle": "2024-03-06T21:53:03.053441Z",
     "shell.execute_reply": "2024-03-06T21:53:03.050352Z",
     "shell.execute_reply.started": "2024-03-06T21:53:03.000926Z"
    },
    "tags": []
   },
   "outputs": [],
   "source": [
    "# Solution\n",
    "def compute_crowding_distance(fitness, front):\n",
    "    num_objectives = fitness.shape[1]\n",
    "    distance = np.zeros(len(front))\n",
    "\n",
    "    for i in range(num_objectives):\n",
    "        front_fitness = [fitness[p][i] for p in front]\n",
    "        sorted_indices = np.argsort(front_fitness)\n",
    "        \n",
    "        max_f = np.max(front_fitness)\n",
    "        min_f = np.min(front_fitness)\n",
    "        \n",
    "        distance[sorted_indices[0]] = distance[sorted_indices[-1]] = np.inf\n",
    "\n",
    "        scale = (max_f - min_f)\n",
    "        # secure edge case\n",
    "        if scale == 0:\n",
    "            scale = 1\n",
    "            \n",
    "        for j in range(1, len(front) - 1):\n",
    "            distance[sorted_indices[j]] += (front_fitness[sorted_indices[j + 1]] - front_fitness[sorted_indices[j - 1]]) / scale\n",
    "\n",
    "    return distance"
   ]
  },
  {
   "cell_type": "code",
   "execution_count": 21,
   "id": "3eab05fb-a652-4661-86b6-6b65db459c12",
   "metadata": {
    "execution": {
     "iopub.execute_input": "2024-03-06T21:53:03.056594Z",
     "iopub.status.busy": "2024-03-06T21:53:03.056146Z",
     "iopub.status.idle": "2024-03-06T21:53:03.198324Z",
     "shell.execute_reply": "2024-03-06T21:53:03.197137Z",
     "shell.execute_reply.started": "2024-03-06T21:53:03.056554Z"
    },
    "tags": []
   },
   "outputs": [
    {
     "name": "stdout",
     "output_type": "stream",
     "text": [
      "Number of Pareto fronts: 19\n",
      "Members of front: [8, 65, 89, 22, 61, 73, 112]\n",
      "Crowding distances: [0.2728 0.9859    inf 1.132  0.6862 0.5952    inf]\n"
     ]
    }
   ],
   "source": [
    "# Test function:\n",
    "population_size = 128\n",
    "num_objectives = 2\n",
    "\n",
    "fitness = np.random.uniform(size=(population_size, num_objectives))\n",
    "fronts, population_rank = fast_nondominated_sort(fitness)\n",
    "\n",
    "front = fronts[3]\n",
    "\n",
    "print(f\"Number of Pareto fronts: {len(fronts)}\")\n",
    "print(f\"Members of front: {front}\")\n",
    "distance = compute_crowding_distance(fitness, front)\n",
    "print(f\"Crowding distances: {distance}\")"
   ]
  },
  {
   "cell_type": "markdown",
   "id": "b7cd6200-e2a4-44a0-8caf-014671c9a06f",
   "metadata": {},
   "source": [
    "## Crowding Operator\n",
    "The crowding operator checks which individual is better in a multi-objective problem based on the rank or the crowding distance."
   ]
  },
  {
   "cell_type": "code",
   "execution_count": 22,
   "id": "8d5aff49-770d-4b37-835a-ba68e313f425",
   "metadata": {
    "execution": {
     "iopub.execute_input": "2024-03-06T21:53:03.201977Z",
     "iopub.status.busy": "2024-03-06T21:53:03.201733Z",
     "iopub.status.idle": "2024-03-06T21:53:03.208444Z",
     "shell.execute_reply": "2024-03-06T21:53:03.206942Z",
     "shell.execute_reply.started": "2024-03-06T21:53:03.201956Z"
    }
   },
   "outputs": [],
   "source": [
    "def crowding_operator(individual_index, other_individual_index, population_rank, crowding_distances):\n",
    "    ..."
   ]
  },
  {
   "cell_type": "code",
   "execution_count": 23,
   "id": "1c5d4710-422e-4031-8ea9-ae2bfa3ea66d",
   "metadata": {
    "execution": {
     "iopub.execute_input": "2024-03-06T21:53:03.210592Z",
     "iopub.status.busy": "2024-03-06T21:53:03.209935Z",
     "iopub.status.idle": "2024-03-06T21:53:03.418078Z",
     "shell.execute_reply": "2024-03-06T21:53:03.415658Z",
     "shell.execute_reply.started": "2024-03-06T21:53:03.210539Z"
    },
    "tags": []
   },
   "outputs": [],
   "source": [
    "# Solution 1\n",
    "def crowding_operator(individual_index, other_individual_index, population_rank, crowding_distances):\n",
    "    if population_rank[individual_index] < population_rank[other_individual_index]:\n",
    "        return individual_index\n",
    "    \n",
    "    if crowding_distances[individual_index] >= crowding_distances[other_individual_index]:\n",
    "        return individual_index\n",
    "    \n",
    "    return other_individual_index"
   ]
  },
  {
   "cell_type": "code",
   "execution_count": 24,
   "id": "7368d93e-5572-4ad5-b25f-368440489fb3",
   "metadata": {
    "execution": {
     "iopub.execute_input": "2024-03-06T21:53:03.421536Z",
     "iopub.status.busy": "2024-03-06T21:53:03.420721Z",
     "iopub.status.idle": "2024-03-06T21:53:03.465381Z",
     "shell.execute_reply": "2024-03-06T21:53:03.463138Z",
     "shell.execute_reply.started": "2024-03-06T21:53:03.421468Z"
    },
    "tags": []
   },
   "outputs": [],
   "source": [
    "# Solution 2\n",
    "def crowding_operator(individual_index, other_individual_index, population_rank, crowding_distances):\n",
    "    if population_rank[individual_index] < population_rank[other_individual_index]:\n",
    "        return individual_index\n",
    "    elif population_rank[individual_index] > population_rank[other_individual_index]:\n",
    "        return other_individual_index\n",
    "    else:\n",
    "        if crowding_distances[individual_index] >= crowding_distances[other_individual_index]:\n",
    "            return individual_index\n",
    "        elif crowding_distances[individual_index] < crowding_distances[other_individual_index]:\n",
    "            return other_individual_index"
   ]
  },
  {
   "cell_type": "markdown",
   "id": "02f22309-6611-4d73-b054-2bad64aa8552",
   "metadata": {
    "tags": []
   },
   "source": [
    "## Step 5b: Survivor Selection - binary tournament selection\n",
    "For comparing different solutions, we use the rank and crowding distance to compare solutions in the tournament selection."
   ]
  },
  {
   "cell_type": "code",
   "execution_count": 25,
   "id": "07a0c350-7269-458c-9b43-d670439c7ee2",
   "metadata": {
    "execution": {
     "iopub.execute_input": "2024-03-06T21:53:03.468685Z",
     "iopub.status.busy": "2024-03-06T21:53:03.467977Z",
     "iopub.status.idle": "2024-03-06T21:53:03.514065Z",
     "shell.execute_reply": "2024-03-06T21:53:03.511065Z",
     "shell.execute_reply.started": "2024-03-06T21:53:03.468621Z"
    },
    "tags": []
   },
   "outputs": [],
   "source": [
    "# Solution\n",
    "def tournament_selection(front_membership, crowding_distances, tournament_size):\n",
    "    possible_contestants = np.arange(len(front_membership))\n",
    "    contestants = np.random.choice(possible_contestants, size=tournament_size, replace=False)\n",
    "    \n",
    "    best_index = contestants[0]\n",
    "    for i in range(1, len(contestants)):\n",
    "        competitor_index = contestants[i]\n",
    "        winner_index = crowding_operator(best_index, competitor_index, front_membership, crowding_distances)\n",
    "        best_index = winner_index\n",
    "        \n",
    "    return best_index"
   ]
  },
  {
   "cell_type": "code",
   "execution_count": 26,
   "id": "9d595434-9a0f-4ede-a0c5-cf1a3a2fc188",
   "metadata": {
    "execution": {
     "iopub.execute_input": "2024-03-06T21:53:03.517845Z",
     "iopub.status.busy": "2024-03-06T21:53:03.517317Z",
     "iopub.status.idle": "2024-03-06T21:53:03.637376Z",
     "shell.execute_reply": "2024-03-06T21:53:03.635042Z",
     "shell.execute_reply.started": "2024-03-06T21:53:03.517805Z"
    },
    "tags": []
   },
   "outputs": [
    {
     "name": "stdout",
     "output_type": "stream",
     "text": [
      "Population rank: [3 2 2 0 0 3 0 1]\n",
      "Corresponding crowding: [0.6277 0.3807 0.4422 0.6703 0.1264 0.4911 0.8992 0.518 ]\n",
      "Best index: 6\n"
     ]
    }
   ],
   "source": [
    "# test functions:\n",
    "population_size = 8\n",
    "tournament_size = 8\n",
    "\n",
    "population_rank = np.random.randint(low=0, high=4, size=population_size)\n",
    "crowding_distances = np.random.uniform(size=population_size)\n",
    "\n",
    "print(f\"Population rank: {population_rank}\")\n",
    "print(f\"Corresponding crowding: {crowding_distances}\")\n",
    "\n",
    "best_index = tournament_selection(population_rank, crowding_distances, tournament_size)\n",
    "\n",
    "print(f\"Best index: {best_index}\")"
   ]
  }
 ],
 "metadata": {
  "kernelspec": {
   "display_name": "Python3",
   "language": "python",
   "name": "python3"
  },
  "language_info": {
   "codemirror_mode": {
    "name": "ipython",
    "version": 3
   },
   "file_extension": ".py",
   "mimetype": "text/x-python",
   "name": "python",
   "nbconvert_exporter": "python",
   "pygments_lexer": "ipython3",
   "version": "3.11.5"
  }
 },
 "nbformat": 4,
 "nbformat_minor": 5
}
