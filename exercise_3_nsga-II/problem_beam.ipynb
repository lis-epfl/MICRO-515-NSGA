{
 "cells": [
  {
   "cell_type": "markdown",
   "id": "ce008be7-f459-43ab-b356-bbbed2b57a98",
   "metadata": {},
   "source": [
    "Here we import the functions from your implementation. This will generate the same plots as in the implementation notebook.\n",
    "\n",
    "**Note:** If you compute large amounts of Pareto fronts, this will result in long computation times."
   ]
  },
  {
   "cell_type": "code",
   "execution_count": null,
   "id": "f57e904d-e3cc-496c-9a4d-2c78635c7b86",
   "metadata": {
    "execution": {
     "iopub.execute_input": "2024-03-06T21:53:15.431012Z",
     "iopub.status.busy": "2024-03-06T21:53:15.430417Z",
     "iopub.status.idle": "2024-03-06T21:53:22.803555Z",
     "shell.execute_reply": "2024-03-06T21:53:22.802399Z",
     "shell.execute_reply.started": "2024-03-06T21:53:15.430951Z"
    },
    "tags": []
   },
   "outputs": [],
   "source": [
    "# Surpresses printing from other notebook\n",
    "import io\n",
    "import sys\n",
    "\n",
    "original_stdout = sys.stdout\n",
    "sys.stdout = io.StringIO()\n",
    "%run nsga-ii.ipynb\n",
    "sys.stdout = original_stdout"
   ]
  },
  {
   "cell_type": "markdown",
   "id": "7b4cfe8a-e1d2-4164-8ce5-62dcb7f388b3",
   "metadata": {},
   "source": [
    "# Beam optimization\n",
    "\n",
    "In this exercise, we will use multi-objective optimization to find the optimal beam parameters considering weight and deflection. For optimization, we will use the Non-dominating Sorting Genetic Algorithm II.\n",
    "\n",
    "<img src=\"assets/charles_kuonen_bridge.jpg\" width=\"640\">"
   ]
  },
  {
   "cell_type": "markdown",
   "id": "92343a8b-631e-4f9c-9555-a4c0ed67bc60",
   "metadata": {},
   "source": [
    "# Imports"
   ]
  },
  {
   "cell_type": "code",
   "execution_count": null,
   "id": "ec564392-35b7-476c-83c9-41470d3c64de",
   "metadata": {
    "execution": {
     "iopub.execute_input": "2024-03-06T21:53:22.806273Z",
     "iopub.status.busy": "2024-03-06T21:53:22.805796Z",
     "iopub.status.idle": "2024-03-06T21:53:22.813675Z",
     "shell.execute_reply": "2024-03-06T21:53:22.812040Z",
     "shell.execute_reply.started": "2024-03-06T21:53:22.806242Z"
    },
    "tags": []
   },
   "outputs": [],
   "source": [
    "from tqdm.notebook import tqdm\n",
    "import random"
   ]
  },
  {
   "cell_type": "markdown",
   "id": "0c49dc7d-f66c-48ec-ac13-23f7e975cbd6",
   "metadata": {},
   "source": [
    "## Beam Modeling\n",
    "\n",
    "NSGA-II can be used to solve a multivariate, multi-objective optimization problems. For instance, here the objective is to minimize two objectives, a beam’s weight and deflection (functions `f_weight` and `f_deflection`), by finding a good combination of two variables, the beam's diameter, $d$, and length, $l$. \n",
    "\n",
    "When you run the code below, NSGA-II will look for a good solution for the two objectives. \n",
    "\n",
    "While setting up the optimisation algorithm, the user will have an idea about the possible range of each variable ($d$ and $l$). For instance, here the diameter can be between $0.01 m$ and $0.05 m$ while the length can be between $0.2 m$ and $1.0 m$. \n",
    "\n",
    "## Exercise 4\n",
    "\n",
    "- 4.1. Run the code below and observe the results you get from this type of genetic algorithm. What is the benefit of obtaining the first Pareto front rather than a single optimal solution?\n",
    "- 4.2. Try different values of `density`, `F_ext` and `E`. How does this affect the first Pareto front? \n",
    "- 4.3. In the next block of code, \"Constraint handling\", try changing the the maximum stress and see how this changes the subset of the first Pareto front that the designer can choose from."
   ]
  },
  {
   "cell_type": "code",
   "execution_count": null,
   "id": "a40c7819-b7a8-42ea-b5ee-93444cb6ea26",
   "metadata": {
    "execution": {
     "iopub.execute_input": "2024-03-06T21:53:22.815023Z",
     "iopub.status.busy": "2024-03-06T21:53:22.814773Z",
     "iopub.status.idle": "2024-03-06T21:53:22.945896Z",
     "shell.execute_reply": "2024-03-06T21:53:22.943284Z",
     "shell.execute_reply.started": "2024-03-06T21:53:22.814999Z"
    },
    "tags": []
   },
   "outputs": [],
   "source": [
    "density = 7800 # [kg/m^3] density of beam\n",
    "F_ext = 2000 # [N] force applied to the end of the beam \n",
    "E = 207e9 # [Pa] young's modulus of beam\n",
    "\n",
    "def f_weight(diameter, length):\n",
    "    # minimize weight\n",
    "    return density * length * np.pi * diameter**2 / 4.0\n",
    "\n",
    "\n",
    "def f_deflection(diameter, length):\n",
    "    # minimize deflection\n",
    "    return 64.0 * F_ext * length**3 / (3.0 * E * np.pi * diameter**4)\n",
    "\n",
    "# Parameter constraints\n",
    "## d between 0.01 m and 0.05 m\n",
    "## l between 0.2 m and 1.0 m\n",
    "value_ranges = [(0.01, 0.05), (0.2, 1.0)]"
   ]
  },
  {
   "cell_type": "markdown",
   "id": "8cdb1880-61c8-481c-b472-23ced6ef0727",
   "metadata": {
    "execution": {
     "iopub.execute_input": "2024-02-15T12:28:34.359226Z",
     "iopub.status.busy": "2024-02-15T12:28:34.357675Z",
     "iopub.status.idle": "2024-02-15T12:28:34.377208Z",
     "shell.execute_reply": "2024-02-15T12:28:34.374285Z",
     "shell.execute_reply.started": "2024-02-15T12:28:34.359106Z"
    },
    "tags": []
   },
   "source": [
    "## Run evolution"
   ]
  },
  {
   "cell_type": "code",
   "execution_count": null,
   "id": "f8600898-3fde-4f15-83f0-53d6312d55e2",
   "metadata": {
    "execution": {
     "iopub.execute_input": "2024-03-06T21:53:22.949515Z",
     "iopub.status.busy": "2024-03-06T21:53:22.948635Z",
     "iopub.status.idle": "2024-03-06T21:53:38.287337Z",
     "shell.execute_reply": "2024-03-06T21:53:38.285282Z",
     "shell.execute_reply.started": "2024-03-06T21:53:22.949441Z"
    },
    "tags": []
   },
   "outputs": [],
   "source": [
    "## Objective functions\n",
    "objective_functions = [f_weight, f_deflection]\n",
    "\n",
    "# Algorithm parameters\n",
    "num_generations = 100\n",
    "population_size = 200\n",
    "num_parameters = 2\n",
    "tournament_size = 2\n",
    "\n",
    "crossover_parameter = 2\n",
    "crossover_probability = 0.1\n",
    "\n",
    "mutation_factor = 20\n",
    "mutation_probability = 0.5\n",
    "\n",
    "# User sanity check\n",
    "assert population_size % 2 == 0\n",
    "assert len(value_ranges) == num_parameters\n",
    "\n",
    "\n",
    "# Get initial population\n",
    "population = initialise_population(population_size, num_parameters, value_ranges)\n",
    "\n",
    "for gen in tqdm(range(num_generations)):\n",
    "    # Evaluate fitness and Pareto fronts from population\n",
    "    fitness = evaluate_population(population, objective_functions)\n",
    "    pareto_fronts, front_membership = fast_nondominated_sort(fitness)\n",
    "\n",
    "    # Select now the members of the best fronts for our new population and cut fronts\n",
    "    # which exceed half of the population size.\n",
    "    selected_population = []\n",
    "    selected_population_crowding_distance = []\n",
    "    selected_population_front_membership = []\n",
    "    \n",
    "    num_fronts = 0\n",
    "    while len(selected_population) + len(pareto_fronts[num_fronts]) < int(population_size/2):\n",
    "        current_front = pareto_fronts[num_fronts]\n",
    "        \n",
    "        # compute crowding distance for every front\n",
    "        crowding_distances = compute_crowding_distance(fitness, current_front)\n",
    "        \n",
    "        for front_index, population_index in enumerate(current_front):\n",
    "            selected_population.append(population[population_index, :])\n",
    "            selected_population_front_membership.append(num_fronts)\n",
    "            selected_population_crowding_distance.append(crowding_distances[front_index])\n",
    "            \n",
    "        num_fronts += 1\n",
    "    \n",
    "    # Select the members with the highest crowding distances for our new population.\n",
    "    num_open_slots = int(population_size/2) - len(selected_population)\n",
    "    \n",
    "    # Add crowding distance of splitted front\n",
    "    crowding_distances = compute_crowding_distance(fitness, pareto_fronts[num_fronts])\n",
    "    crowding_rank = np.argsort(crowding_distances)[::-1]\n",
    "    \n",
    "    for i in range(num_open_slots):\n",
    "        candidate = crowding_rank[i]\n",
    "        \n",
    "        population_index = pareto_fronts[num_fronts][candidate]\n",
    "        \n",
    "        selected_population.append(population[population_index, :])\n",
    "        selected_population_crowding_distance.append(crowding_distances[candidate])\n",
    "        selected_population_front_membership.append(num_fronts)\n",
    "    \n",
    "    # Convert to numpy array\n",
    "    selected_population = np.array(selected_population)\n",
    "    \n",
    "    # Tournament selection, crossover\n",
    "    new_population = np.zeros((population_size, num_parameters))\n",
    "    for i in range(int(population_size/2)):\n",
    "        parent_1_index = tournament_selection(\n",
    "            selected_population_front_membership,\n",
    "            selected_population_crowding_distance,\n",
    "            tournament_size,\n",
    "        )\n",
    "        \n",
    "        parent_2_index = parent_1_index\n",
    "        \n",
    "        # ensures that parent 1 is not the same as parent 2\n",
    "        while parent_1_index == parent_2_index:    \n",
    "            parent_2_index = tournament_selection(\n",
    "                selected_population_front_membership,\n",
    "                selected_population_crowding_distance,\n",
    "                tournament_size,\n",
    "            )\n",
    "\n",
    "        parent_1 = selected_population[parent_1_index, :]\n",
    "        parent_2 = selected_population[parent_2_index, :]\n",
    "\n",
    "        child_1, child_2 = stochastic_crossover(parent_1, parent_2, crossover_probability)\n",
    "        cild_1, child_2 = parent_1, parent_2\n",
    "        \n",
    "        new_population[i, :] = child_1\n",
    "        new_population[i + int(population_size/2), :] = child_2\n",
    "    \n",
    "    new_population = mutate_population(new_population, mutation_probability, value_ranges, mutation_factor)\n",
    "        \n",
    "    # generational change\n",
    "    population = new_population\n",
    "\n",
    "fitness = evaluate_population(selected_population, objective_functions)\n",
    "pareto_fronts, front_membership = fast_nondominated_sort(fitness)"
   ]
  },
  {
   "cell_type": "code",
   "execution_count": null,
   "id": "4025b5a6-36c3-4824-b330-e4976d950bc3",
   "metadata": {
    "execution": {
     "iopub.execute_input": "2024-03-06T21:53:38.289202Z",
     "iopub.status.busy": "2024-03-06T21:53:38.288869Z",
     "iopub.status.idle": "2024-03-06T21:53:38.573663Z",
     "shell.execute_reply": "2024-03-06T21:53:38.572332Z",
     "shell.execute_reply.started": "2024-03-06T21:53:38.289176Z"
    },
    "tags": []
   },
   "outputs": [],
   "source": [
    "fig, ax = plt.subplots()\n",
    "color_map = plt.cm.gist_ncar(np.linspace(0, 1, len(pareto_fronts)))\n",
    "for i, front in enumerate(pareto_fronts):\n",
    "    values = fitness[front]\n",
    "    ax.scatter(values[:, 0], values[:, 1], color=color_map[i], s=2.5)\n",
    "    \n",
    "ax.set_xlabel(\"Beam weight [kg]\")\n",
    "ax.set_ylabel(\"Beam deflection [m]\")\n",
    "\n",
    "plt.show()"
   ]
  },
  {
   "cell_type": "markdown",
   "id": "a836e8c0-9988-4e5a-b8ce-1a676c05b838",
   "metadata": {},
   "source": [
    "## First Pareto front\n",
    "\n",
    "The plotted points represent identified solutions, with the blue points illustrating the primary Pareto front. This signifies that these solutions are undominated by any others, placing them within a tier of equally optimal solutions; there is no single best solution among them. This scenario arises from our objective to minimize two factors simultaneously. As demonstrated, decreasing deflection leads to an increase in weight, and conversely, lowering weight results in higher deflection."
   ]
  },
  {
   "cell_type": "code",
   "execution_count": null,
   "id": "3f53a67d-d604-41ab-ae6e-bd69a0470df5",
   "metadata": {
    "execution": {
     "iopub.execute_input": "2024-03-06T21:53:38.575168Z",
     "iopub.status.busy": "2024-03-06T21:53:38.574876Z",
     "iopub.status.idle": "2024-03-06T21:53:38.860596Z",
     "shell.execute_reply": "2024-03-06T21:53:38.859386Z",
     "shell.execute_reply.started": "2024-03-06T21:53:38.575143Z"
    },
    "tags": []
   },
   "outputs": [],
   "source": [
    "fig, ax = plt.subplots()\n",
    "\n",
    "values = fitness[pareto_fronts[0]]\n",
    "ax.scatter(values[:, 0], values[:, 1], color=\"#B51F1F\", s=2.5)\n",
    "    \n",
    "ax.set_xlabel(\"Beam weight [kg]\")\n",
    "ax.set_ylabel(\"Beam deflection [m]\")\n",
    "\n",
    "plt.show()"
   ]
  },
  {
   "cell_type": "markdown",
   "id": "6a6636b7-cb9b-479d-acbc-7535e28323b9",
   "metadata": {},
   "source": [
    "## Constraint handling\n",
    "\n",
    "But then how does the designer choose from this set of good solutions? The choice can be narrowed down by looking at the constraints such as maximum stress and maximum deflection of the beam. If the maximum stress is 300 MPa and the maximum deflection is 0.005 m then we can use these to eliminate some of the first Pareto front solutions. \n",
    "\n",
    "Run the code below:"
   ]
  },
  {
   "cell_type": "code",
   "execution_count": null,
   "id": "d9b40b55-8ffd-4523-9337-6ce223e19bbf",
   "metadata": {
    "execution": {
     "iopub.execute_input": "2024-03-06T21:53:38.863724Z",
     "iopub.status.busy": "2024-03-06T21:53:38.863422Z",
     "iopub.status.idle": "2024-03-06T21:53:39.293668Z",
     "shell.execute_reply": "2024-03-06T21:53:39.292313Z",
     "shell.execute_reply.started": "2024-03-06T21:53:38.863700Z"
    },
    "tags": []
   },
   "outputs": [],
   "source": [
    "import matplotlib.patches as mpatches\n",
    "\n",
    "S_y = 300e6 # [Pa] # maximum stress\n",
    "DELTA_MAX = 0.005 # [m] maximum deflection\n",
    "\n",
    "def stress(d, l):\n",
    "    return 32. * F_ext * l / (np.pi * d**3)\n",
    "\n",
    "plt.xlabel('Beam Weight [kg]')\n",
    "plt.ylabel('Beam Deflection [m]')\n",
    "plt.plot([0, 3],[DELTA_MAX, DELTA_MAX], '--r')\n",
    "plt.text(1.75, DELTA_MAX*1.1, f'Max Deflection={DELTA_MAX}m', color='r')\n",
    "\n",
    "# check max stress constraint. max stress <= S_y\n",
    "for i in range(len(selected_population)):\n",
    "    diameter = selected_population[i][0]\n",
    "    length = selected_population[i][1]\n",
    "    values = fitness[pareto_fronts[0]]\n",
    "    \n",
    "    if stress(diameter, length) > S_y:\n",
    "        plt.plot(values[i, 0], values[i, 1], '.r')\n",
    "    else:\n",
    "        plt.plot(values[i, 0], values[i, 1], '.g')\n",
    "        \n",
    "g_patch = mpatches.Patch(color='g', hatch=\".\", label='Stress(d,l) <= max')\n",
    "r_patch = mpatches.Patch(color='r', hatch=\".\", label='Stress(d,l) > max')\n",
    "plt.legend(handles=[g_patch, r_patch])\n",
    "# plt.scatter(function1, function2)\n",
    "plt.show()"
   ]
  },
  {
   "cell_type": "markdown",
   "id": "fe35d864-ee95-4feb-8b06-5e7ff954e423",
   "metadata": {},
   "source": [
    "In the above code, we first calculated the stress in the beam for each pair of variables in the first Pareto front. The stresses were compared with the maximum stress and coloured red if they are greater. The maximum deflection was also plotted as the red dashed line. All solutions that met the stress requirements also met the deflection requirements and are coloured green. \n"
   ]
  },
  {
   "cell_type": "markdown",
   "id": "3adda442-dfd5-4f3f-8fda-694ac0824543",
   "metadata": {},
   "source": [
    "# Zoomed in\n",
    "\n",
    "Zooming in to the 2-objective Pareto front in the desirable stress region (green), we can see that there is still not a single optimal combination of the diameter and length of the beam. Although the deflection difference is small, there is still a trade-off between reducing the deflection and increasing the weight of the beam."
   ]
  },
  {
   "cell_type": "code",
   "execution_count": null,
   "id": "0ea05291-bb3d-474d-bc58-a9dd2c54f290",
   "metadata": {
    "execution": {
     "iopub.execute_input": "2024-03-06T21:53:39.295113Z",
     "iopub.status.busy": "2024-03-06T21:53:39.294859Z",
     "iopub.status.idle": "2024-03-06T21:53:39.763497Z",
     "shell.execute_reply": "2024-03-06T21:53:39.762146Z",
     "shell.execute_reply.started": "2024-03-06T21:53:39.295088Z"
    },
    "tags": []
   },
   "outputs": [],
   "source": [
    "import matplotlib.patches as mpatches\n",
    "\n",
    "S_y = 300e6 # [Pa] # maximum stress\n",
    "DELTA_MAX = 0.005 # [m] maximum deflection\n",
    "\n",
    "def stress(d, l):\n",
    "    return 32. * F_ext * l / (np.pi * d**3)\n",
    "\n",
    "# check max stress constraint. max stress <= S_y\n",
    "for i in range(len(selected_population)):\n",
    "    diameter = selected_population[i][0]\n",
    "    length = selected_population[i][1]\n",
    "    values = fitness[pareto_fronts[0]]\n",
    "    \n",
    "    if stress(diameter, length) > S_y:\n",
    "        plt.plot(values[i, 0], values[i, 1], '.r')\n",
    "    else:\n",
    "        plt.plot(values[i, 0], values[i, 1], '.g')\n",
    "        \n",
    "g_patch = mpatches.Patch(color='g', hatch=\".\", label='Stress(d,l) <= max')\n",
    "r_patch = mpatches.Patch(color='r', hatch=\".\", label='Stress(d,l) > max')\n",
    "\n",
    "plt.legend(handles=[g_patch, r_patch])\n",
    "plt.ylim([0,0.003])\n",
    "plt.xlabel('Beam Weight [kg]')\n",
    "plt.ylabel('Beam Deflection [m]')\n",
    "# plt.scatter(function1, function2)\n",
    "plt.show()"
   ]
  }
 ],
 "metadata": {
  "kernelspec": {
   "display_name": "Python3",
   "language": "python",
   "name": "python3"
  },
  "language_info": {
   "codemirror_mode": {
    "name": "ipython",
    "version": 3
   },
   "file_extension": ".py",
   "mimetype": "text/x-python",
   "name": "python",
   "nbconvert_exporter": "python",
   "pygments_lexer": "ipython3",
   "version": "3.11.5"
  }
 },
 "nbformat": 4,
 "nbformat_minor": 5
}
